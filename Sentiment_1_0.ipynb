{
  "nbformat": 4,
  "nbformat_minor": 0,
  "metadata": {
    "colab": {
      "provenance": []
    },
    "kernelspec": {
      "name": "python3",
      "display_name": "Python 3"
    },
    "language_info": {
      "name": "python"
    }
  },
  "cells": [
    {
      "cell_type": "markdown",
      "source": [
        "# Raw Model For Sentiment Analysis"
      ],
      "metadata": {
        "id": "tSLQh5nzpACc"
      }
    },
    {
      "cell_type": "markdown",
      "source": [
        "## Building from scratch : S.A of Text"
      ],
      "metadata": {
        "id": "IwCYSBL-pgts"
      }
    },
    {
      "cell_type": "code",
      "execution_count": 1,
      "metadata": {
        "id": "x1qubolYWKz0"
      },
      "outputs": [],
      "source": [
        "import string\n",
        "from collections import Counter\n",
        "import matplotlib.pyplot as plt\n",
        "import seaborn as sns"
      ]
    },
    {
      "cell_type": "code",
      "source": [
        "text = open(\"read.txt\", encoding=\"utf-8\").read()"
      ],
      "metadata": {
        "id": "BZ3dJ1voYyQt"
      },
      "execution_count": 2,
      "outputs": []
    },
    {
      "cell_type": "code",
      "source": [
        "lower_case = text.lower()\n",
        "cleaned_text = lower_case.translate(str.maketrans('', '', string.punctuation))\n",
        "tokenized_words = cleaned_text.split()\n",
        "print(tokenized_words)"
      ],
      "metadata": {
        "colab": {
          "base_uri": "https://localhost:8080/"
        },
        "id": "KP1M3yGEY5kG",
        "outputId": "c93118c5-265e-4e77-c854-b8efda977c4b"
      },
      "execution_count": 3,
      "outputs": [
        {
          "output_type": "stream",
          "name": "stdout",
          "text": [
            "['i', 'apologize', 'for', 'any', 'confusion', 'earlier', 'heres', 'a', 'short', 'essay', 'that', 'explores', 'the', 'theme', 'of', 'sadness', 'title', 'the', 'weight', 'of', 'sorrow', 'exploring', 'the', 'depths', 'of', 'sadness', 'sadness', 'a', 'shadow', 'that', 'occasionally', 'envelops', 'the', 'human', 'heart', 'is', 'a', 'poignant', 'reminder', 'of', 'lifes', 'intricate', 'tapestry', 'of', 'emotions', 'it', 'is', 'an', 'emotion', 'that', 'transcends', 'cultural', 'and', 'societal', 'boundaries', 'binding', 'us', 'in', 'our', 'shared', 'human', 'experience', 'while', 'often', 'considered', 'undesirable', 'sadness', 'serves', 'as', 'a', 'mirror', 'to', 'our', 'vulnerabilities', 'and', 'offers', 'a', 'unique', 'lens', 'through', 'which', 'we', 'perceive', 'the', 'world', 'at', 'its', 'core', 'sadness', 'is', 'a', 'reaction', 'to', 'loss', 'disappointment', 'or', 'unmet', 'expectations', 'it', 'descends', 'upon', 'us', 'like', 'a', 'heavy', 'curtain', 'muffling', 'the', 'joys', 'of', 'life', 'and', 'coloring', 'the', 'world', 'in', 'muted', 'tones', 'the', 'experience', 'of', 'sadness', 'can', 'be', 'isolating', 'as', 'we', 'grapple', 'with', 'our', 'internal', 'turmoil', 'struggling', 'to', 'articulate', 'the', 'complex', 'emotions', 'it', 'brings', 'forth', 'sadness', 'much', 'like', 'a', 'gentle', 'rain', 'can', 'nurture', 'the', 'soil', 'of', 'our', 'inner', 'selves', 'it', 'encourages', 'introspection', 'prompting', 'us', 'to', 'delve', 'deep', 'into', 'our', 'thoughts', 'and', 'memories', 'during', 'moments', 'of', 'sadness', 'we', 'often', 'find', 'ourselves', 'reminiscing', 'about', 'moments', 'of', 'happiness', 'revealing', 'the', 'intricate', 'connection', 'between', 'joy', 'and', 'sorrow', 'this', 'introspection', 'can', 'lead', 'to', 'personal', 'growth', 'as', 'we', 'learn', 'to', 'navigate', 'the', 'ebb', 'and', 'flow', 'of', 'lifes', 'challenges', 'however', 'there', 'is', 'a', 'somber', 'beauty', 'to', 'sadness', 'that', 'often', 'goes', 'unnoticed', 'it', 'is', 'a', 'muse', 'for', 'artists', 'writers', 'and', 'musicians', 'inspiring', 'creations', 'that', 'capture', 'the', 'essence', 'of', 'melancholy', 'from', 'heartwrenching', 'melodies', 'to', 'tearstained', 'canvases', 'art', 'born', 'from', 'sadness', 'possesses', 'a', 'unique', 'ability', 'to', 'resonate', 'deeply', 'within', 'our', 'souls', 'it', 'is', 'in', 'these', 'creative', 'expressions', 'that', 'we', 'find', 'solace', 'a', 'reminder', 'that', 'we', 'are', 'not', 'alone', 'in', 'our', 'struggle', 'to', 'understand', 'and', 'embrace', 'our', 'emotional', 'complexities', 'in', 'times', 'of', 'sadness', 'the', 'veil', 'of', 'our', 'vulnerability', 'lifts', 'allowing', 'us', 'to', 'connect', 'with', 'others', 'on', 'a', 'profound', 'level', 'witnessing', 'the', 'sadness', 'in', 'anothers', 'eyes', 'awakens', 'empathy', 'creating', 'bridges', 'of', 'understanding', 'that', 'span', 'across', 'differences', 'it', 'reminds', 'us', 'that', 'while', 'our', 'individual', 'journeys', 'may', 'be', 'distinct', 'the', 'emotions', 'that', 'shape', 'us', 'are', 'universally', 'relatable', 'in', 'conclusion', 'sadness', 'is', 'a', 'paradoxical', 'emotion—a', 'burden', 'that', 'both', 'weighs', 'down', 'the', 'spirit', 'and', 'offers', 'an', 'opportunity', 'for', 'growth', 'it', 'is', 'a', 'reminder', 'that', 'life', 'is', 'a', 'mosaic', 'of', 'experiences', 'each', 'contributing', 'to', 'the', 'intricate', 'portrait', 'of', 'our', 'existence', 'while', 'navigating', 'the', 'depths', 'of', 'sadness', 'can', 'be', 'a', 'solitary', 'journey', 'the', 'shared', 'threads', 'of', 'empathy', 'and', 'creativity', 'weave', 'us', 'into', 'a', 'broader', 'tapestry', 'of', 'humanity', 'remember', 'if', 'you', 'or', 'someone', 'you', 'know', 'is', 'struggling', 'with', 'overwhelming', 'sadness', 'its', 'important', 'to', 'seek', 'support', 'from', 'friends', 'family', 'or', 'a', 'mental', 'health', 'professional', 'you', 'dont', 'have', 'to', 'face', 'the', 'darkness', 'alone']\n"
          ]
        }
      ]
    },
    {
      "cell_type": "code",
      "source": [
        "stop_words = [\"i\", \"me\", \"my\", \"myself\", \"we\", \"our\", \"ours\", \"ourselves\", \"you\", \"your\", \"yours\", \"yourself\",\n",
        "              \"yourselves\", \"he\", \"him\", \"his\", \"himself\", \"she\", \"her\", \"hers\", \"herself\", \"it\", \"its\", \"itself\",\n",
        "              \"they\", \"them\", \"their\", \"theirs\", \"themselves\", \"what\", \"which\", \"who\", \"whom\", \"this\", \"that\", \"these\",\n",
        "              \"those\", \"am\", \"is\", \"are\", \"was\", \"were\", \"be\", \"been\", \"being\", \"have\", \"has\", \"had\", \"having\", \"do\",\n",
        "              \"does\", \"did\", \"doing\", \"a\", \"an\", \"the\", \"and\", \"but\", \"if\", \"or\", \"because\", \"as\", \"until\", \"while\",\n",
        "              \"of\", \"at\", \"by\", \"for\", \"with\", \"about\", \"against\", \"between\", \"into\", \"through\", \"during\", \"before\",\n",
        "              \"after\", \"above\", \"below\", \"to\", \"from\", \"up\", \"down\", \"in\", \"out\", \"on\", \"off\", \"over\", \"under\", \"again\",\n",
        "              \"further\", \"then\", \"once\", \"here\", \"there\", \"when\", \"where\", \"why\", \"how\", \"all\", \"any\", \"both\", \"each\",\n",
        "              \"few\", \"more\", \"most\", \"other\", \"some\", \"such\", \"no\", \"nor\", \"not\", \"only\", \"own\", \"same\", \"so\", \"than\",\n",
        "              \"too\", \"very\", \"s\", \"t\", \"can\", \"will\", \"just\", \"don\", \"should\", \"now\"]\n"
      ],
      "metadata": {
        "id": "L4W9E5e5Y8uv"
      },
      "execution_count": 4,
      "outputs": []
    },
    {
      "cell_type": "code",
      "source": [
        "final_words = []\n",
        "for word in tokenized_words:\n",
        "    if word not in stop_words:\n",
        "        final_words.append(word)"
      ],
      "metadata": {
        "id": "MuipRTRCY_mS"
      },
      "execution_count": 5,
      "outputs": []
    },
    {
      "cell_type": "code",
      "source": [
        "emotion_list = []\n",
        "with open('emotions.txt', 'r') as file:\n",
        "    for line in file:\n",
        "        clear_line = line.replace(\"\\n\", '').replace(\",\", '').replace(\"'\", '').strip()\n",
        "        word, emotion = clear_line.split(':')\n",
        "\n",
        "        if word in final_words:\n",
        "            emotion_list.append(emotion)"
      ],
      "metadata": {
        "id": "mVNhhhA9ZFDq"
      },
      "execution_count": 6,
      "outputs": []
    },
    {
      "cell_type": "code",
      "source": [
        "print(emotion_list)\n",
        "w = Counter(emotion_list)\n",
        "print(w)\n"
      ],
      "metadata": {
        "colab": {
          "base_uri": "https://localhost:8080/"
        },
        "id": "llRVO_9hZKi0",
        "outputId": "d3ec934a-cdc9-4ced-8740-eb1b52ce8c28"
      },
      "execution_count": 7,
      "outputs": [
        {
          "output_type": "stream",
          "name": "stdout",
          "text": [
            "[' happy', ' sad', ' sad', ' alone', ' attracted']\n",
            "Counter({' sad': 2, ' happy': 1, ' alone': 1, ' attracted': 1})\n"
          ]
        }
      ]
    },
    {
      "cell_type": "code",
      "source": [
        "fig, ax1 = plt.subplots()\n",
        "ax1.bar(w.keys(), w.values())\n",
        "fig.autofmt_xdate()\n",
        "\n",
        "plt.show()"
      ],
      "metadata": {
        "colab": {
          "base_uri": "https://localhost:8080/",
          "height": 419
        },
        "id": "NrgDwCnWZN8c",
        "outputId": "7cf0d868-a4c6-4a87-f8cf-be49f8556b2d"
      },
      "execution_count": 8,
      "outputs": [
        {
          "output_type": "display_data",
          "data": {
            "text/plain": [
              "<Figure size 640x480 with 1 Axes>"
            ],
            "image/png": "[encoded data removed]"
          },
          "metadata": {}
        }
      ]
    },
    {
      "cell_type": "code",
      "source": [
        "import nltk\n",
        "nltk.download('vader_lexicon')"
      ],
      "metadata": {
        "colab": {
          "base_uri": "https://localhost:8080/"
        },
        "id": "_38S9j0Dd6qJ",
        "outputId": "0664a955-809f-435b-9616-137646ac06da"
      },
      "execution_count": 9,
      "outputs": [
        {
          "output_type": "stream",
          "name": "stderr",
          "text": [
            "[nltk_data] Downloading package vader_lexicon to /root/nltk_data...\n",
            "[nltk_data]   Package vader_lexicon is already up-to-date!\n"
          ]
        },
        {
          "output_type": "execute_result",
          "data": {
            "text/plain": [
              "True"
            ]
          },
          "metadata": {},
          "execution_count": 9
        }
      ]
    },
    {
      "cell_type": "code",
      "source": [
        "from nltk.sentiment.vader import SentimentIntensityAnalyzer"
      ],
      "metadata": {
        "id": "uhQ1xertdJhK"
      },
      "execution_count": 10,
      "outputs": []
    },
    {
      "cell_type": "code",
      "source": [
        "def sentiment_analyse(sentiment_text):\n",
        "    score = SentimentIntensityAnalyzer().polarity_scores(sentiment_text)\n",
        "    if score['neg'] > score['pos']:\n",
        "        print(\"Negative Sentiment\")\n",
        "    elif score['neg'] < score['pos']:\n",
        "        print(\"Positive Sentiment\")\n",
        "    else:\n",
        "        print(\"Neutral Sentiment\")\n"
      ],
      "metadata": {
        "id": "eEXv3pQudUv4"
      },
      "execution_count": 11,
      "outputs": []
    },
    {
      "cell_type": "code",
      "source": [
        "print(f\"Polarity_Score : {SentimentIntensityAnalyzer().polarity_scores(cleaned_text)}\")"
      ],
      "metadata": {
        "colab": {
          "base_uri": "https://localhost:8080/"
        },
        "id": "J6uHNa8JeNgd",
        "outputId": "3fa50d2f-b5dd-4267-86b1-976065942d96"
      },
      "execution_count": 12,
      "outputs": [
        {
          "output_type": "stream",
          "name": "stdout",
          "text": [
            "Polarity_Score : {'neg': 0.165, 'neu': 0.681, 'pos': 0.154, 'compound': -0.889}\n"
          ]
        }
      ]
    },
    {
      "cell_type": "code",
      "source": [
        "sentiment_analyse(cleaned_text)"
      ],
      "metadata": {
        "colab": {
          "base_uri": "https://localhost:8080/"
        },
        "id": "PMSqyXq1dXkV",
        "outputId": "bb4ee21c-3f37-404e-b505-f3c2c61888a7"
      },
      "execution_count": 13,
      "outputs": [
        {
          "output_type": "stream",
          "name": "stdout",
          "text": [
            "Negative Sentiment\n"
          ]
        }
      ]
    },
    {
      "cell_type": "markdown",
      "source": [
        "# Using Pre-written libraries"
      ],
      "metadata": {
        "id": "kwptX53ah3b4"
      }
    },
    {
      "cell_type": "code",
      "source": [
        "nltk.download('punkt')\n",
        "nltk.download('stopwords')\n",
        "nltk.download('wordnet')"
      ],
      "metadata": {
        "colab": {
          "base_uri": "https://localhost:8080/"
        },
        "id": "Cm_h4BXEgJGz",
        "outputId": "e8f97067-e4c7-46e7-e48a-7a97a739cf95"
      },
      "execution_count": 14,
      "outputs": [
        {
          "output_type": "stream",
          "name": "stderr",
          "text": [
            "[nltk_data] Downloading package punkt to /root/nltk_data...\n",
            "[nltk_data]   Package punkt is already up-to-date!\n",
            "[nltk_data] Downloading package stopwords to /root/nltk_data...\n",
            "[nltk_data]   Package stopwords is already up-to-date!\n",
            "[nltk_data] Downloading package wordnet to /root/nltk_data...\n",
            "[nltk_data]   Package wordnet is already up-to-date!\n"
          ]
        },
        {
          "output_type": "execute_result",
          "data": {
            "text/plain": [
              "True"
            ]
          },
          "metadata": {},
          "execution_count": 14
        }
      ]
    },
    {
      "cell_type": "code",
      "source": [
        "from nltk.corpus import stopwords\n",
        "from nltk.sentiment.vader import SentimentIntensityAnalyzer\n",
        "from nltk.stem import WordNetLemmatizer\n",
        "from nltk.tokenize import word_tokenize\n",
        "\n",
        "text = open('read.txt', encoding='utf-8').read()\n",
        "lower_case = text.lower()\n",
        "cleaned_text = lower_case.translate(str.maketrans('', '', string.punctuation))\n",
        "\n",
        "tokenized_words = word_tokenize(cleaned_text, \"english\")\n",
        "\n",
        "final_words = []\n",
        "for word in tokenized_words:\n",
        "    if word not in stopwords.words('english'):\n",
        "        final_words.append(word)\n",
        "\n",
        "# Lemmatization - From plural to single + Base form of a word (example better-> good)\n",
        "lemma_words = []\n",
        "for word in final_words:\n",
        "    word = WordNetLemmatizer().lemmatize(word)\n",
        "    lemma_words.append(word)\n",
        "\n",
        "emotion_list = []\n",
        "with open('emotions.txt', 'r') as file:\n",
        "    for line in file:\n",
        "        clear_line = line.replace(\"\\n\", '').replace(\",\", '').replace(\"'\", '').strip()\n",
        "        word, emotion = clear_line.split(':')\n",
        "\n",
        "        if word in lemma_words:\n",
        "            emotion_list.append(emotion)\n",
        "\n",
        "print(emotion_list)\n",
        "w = Counter(emotion_list)\n",
        "print(w)\n",
        "\n",
        "\n",
        "def sentiment_analyse(sentiment_text):\n",
        "    score = SentimentIntensityAnalyzer().polarity_scores(sentiment_text)\n",
        "    print(f\"Polarity_Score : {score}\")\n",
        "    if score['neg'] > score['pos']:\n",
        "        print(\"Negative Sentiment\")\n",
        "    elif score['neg'] < score['pos']:\n",
        "        print(\"Positive Sentiment\")\n",
        "    else:\n",
        "        print(\"Neutral Sentiment\")\n",
        "\n",
        "\n",
        "sentiment_analyse(cleaned_text)\n",
        "\n",
        "fig, ax1 = plt.subplots()\n",
        "ax1.bar(w.keys(), w.values())\n",
        "fig.autofmt_xdate()\n",
        "plt.savefig('graph.png')\n",
        "plt.show()"
      ],
      "metadata": {
        "colab": {
          "base_uri": "https://localhost:8080/",
          "height": 488
        },
        "id": "Q3L3FALbfw2S",
        "outputId": "1d866456-f550-4910-85fb-b1fce3160bdb"
      },
      "execution_count": 15,
      "outputs": [
        {
          "output_type": "stream",
          "name": "stdout",
          "text": [
            "[' happy', ' sad', ' sad', ' alone', ' attracted']\n",
            "Counter({' sad': 2, ' happy': 1, ' alone': 1, ' attracted': 1})\n",
            "Polarity_Score : {'neg': 0.165, 'neu': 0.681, 'pos': 0.154, 'compound': -0.889}\n",
            "Negative Sentiment\n"
          ]
        },
        {
          "output_type": "display_data",
          "data": {
            "text/plain": [
              "<Figure size 640x480 with 1 Axes>"
            ],
            "image/png": "[encoded data removed]"
          },
          "metadata": {}
        }
      ]
    },
    {
      "cell_type": "markdown",
      "source": [
        "## advantage of pre-written algo/ libraries is *SPEED*"
      ],
      "metadata": {
        "id": "XdcoP1LloXJr"
      }
    }
  ]
}